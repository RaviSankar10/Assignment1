{
  "nbformat": 4,
  "nbformat_minor": 0,
  "metadata": {
    "colab": {
      "provenance": [],
      "authorship_tag": "ABX9TyOAaOjleXVTQ6rGbh0OTrSW",
      "include_colab_link": true
    },
    "kernelspec": {
      "name": "python3",
      "display_name": "Python 3"
    },
    "language_info": {
      "name": "python"
    }
  },
  "cells": [
    {
      "cell_type": "markdown",
      "metadata": {
        "id": "view-in-github",
        "colab_type": "text"
      },
      "source": [
        "<a href=\"https://colab.research.google.com/github/RaviSankar10/Assignment1/blob/main/Untitled0.ipynb\" target=\"_parent\"><img src=\"https://colab.research.google.com/assets/colab-badge.svg\" alt=\"Open In Colab\"/></a>"
      ]
    },
    {
      "cell_type": "code",
      "source": [
        "import pandas as pd\n",
        "\n",
        "# Load the dataset into a pandas DataFrame\n",
        "url = 'https://drive.google.com/uc?id=1lhocqzf8GJowTW7HAGLfKFMuifSy-l6i'\n",
        "df = pd.read_csv(url)\n",
        "\n",
        "# Displaying the first few rows of the dataset\n",
        "print(\"Dataset loaded successfully. First few rows:\")\n",
        "print(df.head())"
      ],
      "metadata": {
        "colab": {
          "base_uri": "https://localhost:8080/"
        },
        "id": "VIuZol1iu9kR",
        "outputId": "34828344-489c-4d86-cc1f-a6c3d0eca15e"
      },
      "execution_count": 22,
      "outputs": [
        {
          "output_type": "stream",
          "name": "stdout",
          "text": [
            "Dataset loaded successfully. First few rows:\n",
            "   Unnamed: 0                              Name    Location  Year  \\\n",
            "0           1  Hyundai Creta 1.6 CRDi SX Option        Pune  2015   \n",
            "1           2                      Honda Jazz V     Chennai  2011   \n",
            "2           3                 Maruti Ertiga VDI     Chennai  2012   \n",
            "3           4   Audi A4 New 2.0 TDI Multitronic  Coimbatore  2013   \n",
            "4           6            Nissan Micra Diesel XV      Jaipur  2013   \n",
            "\n",
            "   Kilometers_Driven Fuel_Type Transmission Owner_Type     Mileage   Engine  \\\n",
            "0              41000    Diesel       Manual      First  19.67 kmpl  1582 CC   \n",
            "1              46000    Petrol       Manual      First    13 km/kg  1199 CC   \n",
            "2              87000    Diesel       Manual      First  20.77 kmpl  1248 CC   \n",
            "3              40670    Diesel    Automatic     Second   15.2 kmpl  1968 CC   \n",
            "4              86999    Diesel       Manual      First  23.08 kmpl  1461 CC   \n",
            "\n",
            "       Power  Seats  New_Price  Price  \n",
            "0  126.2 bhp    5.0        NaN  12.50  \n",
            "1   88.7 bhp    5.0  8.61 Lakh   4.50  \n",
            "2  88.76 bhp    7.0        NaN   6.00  \n",
            "3  140.8 bhp    5.0        NaN  17.74  \n",
            "4   63.1 bhp    5.0        NaN   3.50  \n"
          ]
        }
      ]
    },
    {
      "cell_type": "code",
      "source": [
        "# Look for missing values\n",
        "print(\"\\nMissing values before handling:\")\n",
        "print(df.isnull().sum())\n",
        "\n",
        "# Impute missing values for numerical columns with mean\n",
        "df.fillna(df.mean(), inplace=True)\n",
        "\n",
        "# Drop remaining rows with missing values\n",
        "df.dropna(inplace=True)\n",
        "\n",
        "# Displaying missing values after handling\n",
        "print(\"\\nMissing values after handling:\")\n",
        "print(df.isnull().sum())"
      ],
      "metadata": {
        "colab": {
          "base_uri": "https://localhost:8080/"
        },
        "id": "W2kbo4JzvJT6",
        "outputId": "c7e0e9b8-1d9c-44a4-d607-5618987a96f3"
      },
      "execution_count": 23,
      "outputs": [
        {
          "output_type": "stream",
          "name": "stdout",
          "text": [
            "\n",
            "Missing values before handling:\n",
            "Unnamed: 0              0\n",
            "Name                    0\n",
            "Location                0\n",
            "Year                    0\n",
            "Kilometers_Driven       0\n",
            "Fuel_Type               0\n",
            "Transmission            0\n",
            "Owner_Type              0\n",
            "Mileage                 2\n",
            "Engine                 36\n",
            "Power                  36\n",
            "Seats                  38\n",
            "New_Price            5032\n",
            "Price                   0\n",
            "dtype: int64\n",
            "\n",
            "Missing values after handling:\n",
            "Unnamed: 0           0\n",
            "Name                 0\n",
            "Location             0\n",
            "Year                 0\n",
            "Kilometers_Driven    0\n",
            "Fuel_Type            0\n",
            "Transmission         0\n",
            "Owner_Type           0\n",
            "Mileage              0\n",
            "Engine               0\n",
            "Power                0\n",
            "Seats                0\n",
            "New_Price            0\n",
            "Price                0\n",
            "dtype: int64\n"
          ]
        },
        {
          "output_type": "stream",
          "name": "stderr",
          "text": [
            "<ipython-input-23-81b28ec4ed2d>:6: FutureWarning: The default value of numeric_only in DataFrame.mean is deprecated. In a future version, it will default to False. In addition, specifying 'numeric_only=None' is deprecated. Select only valid columns or specify the value of numeric_only to silence this warning.\n",
            "  df.fillna(df.mean(), inplace=True)\n"
          ]
        }
      ]
    },
    {
      "cell_type": "code",
      "source": [
        "# Remove units from attributes\n",
        "df['Kilometers_Driven'] = df['Kilometers_Driven'] / 1000\n",
        "\n",
        "print(\"\\nAfter removing units from 'Kilometers_Driven':\")\n",
        "print(df['Kilometers_Driven'])\n"
      ],
      "metadata": {
        "colab": {
          "base_uri": "https://localhost:8080/"
        },
        "id": "Ry1D9m4jvdSj",
        "outputId": "d02148d3-fc0f-4d69-d8d5-daa1636d10be"
      },
      "execution_count": 25,
      "outputs": [
        {
          "output_type": "stream",
          "name": "stdout",
          "text": [
            "\n",
            "After removing units from 'Kilometers_Driven':\n",
            "1        46.000\n",
            "5        36.000\n",
            "8        25.692\n",
            "13      110.000\n",
            "18       32.982\n",
            "         ...   \n",
            "5827     10.000\n",
            "5830     38.000\n",
            "5833     37.208\n",
            "5838     33.746\n",
            "5842     27.365\n",
            "Name: Kilometers_Driven, Length: 814, dtype: float64\n"
          ]
        }
      ]
    },
    {
      "cell_type": "code",
      "source": [
        "# Change categorical variables into one hot encoded values\n",
        "df = pd.get_dummies(df, columns=['Fuel_Type', 'Transmission'])\n",
        "\n",
        "print(\"\\nAfter one-hot encoding categorical variables:\")\n",
        "print(df.head())"
      ],
      "metadata": {
        "colab": {
          "base_uri": "https://localhost:8080/"
        },
        "id": "G1T7ZoVBvuEX",
        "outputId": "4529393d-8eb7-4653-f782-3d73e2148353"
      },
      "execution_count": 26,
      "outputs": [
        {
          "output_type": "stream",
          "name": "stdout",
          "text": [
            "\n",
            "After one-hot encoding categorical variables:\n",
            "    Unnamed: 0                               Name Location  Year  \\\n",
            "1            2                       Honda Jazz V  Chennai  2011   \n",
            "5            7  Toyota Innova Crysta 2.8 GX AT 8S   Mumbai  2016   \n",
            "8           10                   Maruti Ciaz Zeta    Kochi  2018   \n",
            "13          15        Mitsubishi Pajero Sport 4X4    Delhi  2014   \n",
            "18          20                  BMW 3 Series 320d    Kochi  2014   \n",
            "\n",
            "    Kilometers_Driven Owner_Type     Mileage   Engine       Power  Seats  \\\n",
            "1              46.000      First    13 km/kg  1199 CC    88.7 bhp    5.0   \n",
            "5              36.000      First  11.36 kmpl  2755 CC   171.5 bhp    8.0   \n",
            "8              25.692      First  21.56 kmpl  1462 CC  103.25 bhp    5.0   \n",
            "13            110.000      First   13.5 kmpl  2477 CC  175.56 bhp    7.0   \n",
            "18             32.982      First  22.69 kmpl  1995 CC     190 bhp    5.0   \n",
            "\n",
            "     New_Price  Price  Fuel_Type_Diesel  Fuel_Type_Petrol  \\\n",
            "1    8.61 Lakh   4.50                 0                 1   \n",
            "5      21 Lakh  17.50                 1                 0   \n",
            "8   10.65 Lakh   9.95                 0                 1   \n",
            "13  32.01 Lakh  15.00                 1                 0   \n",
            "18  47.87 Lakh  18.55                 1                 0   \n",
            "\n",
            "    Transmission_Automatic  Transmission_Manual  \n",
            "1                        0                    1  \n",
            "5                        1                    0  \n",
            "8                        0                    1  \n",
            "13                       0                    1  \n",
            "18                       1                    0  \n"
          ]
        }
      ]
    },
    {
      "cell_type": "code",
      "source": [
        "# Create a new feature for the current age of the car\n",
        "from datetime import datetime\n",
        "current_year = datetime.now().year\n",
        "df['Current_age'] = current_year - df['Year']\n",
        "\n",
        "print(\"\\nAfter adding 'Current_age' feature:\")\n",
        "print(df.head())\n"
      ],
      "metadata": {
        "colab": {
          "base_uri": "https://localhost:8080/"
        },
        "id": "Wbodq1Pdv0t7",
        "outputId": "ac217188-a5fd-4cba-b810-d0144a9179a4"
      },
      "execution_count": 27,
      "outputs": [
        {
          "output_type": "stream",
          "name": "stdout",
          "text": [
            "\n",
            "After adding 'Current_age' feature:\n",
            "    Unnamed: 0                               Name Location  Year  \\\n",
            "1            2                       Honda Jazz V  Chennai  2011   \n",
            "5            7  Toyota Innova Crysta 2.8 GX AT 8S   Mumbai  2016   \n",
            "8           10                   Maruti Ciaz Zeta    Kochi  2018   \n",
            "13          15        Mitsubishi Pajero Sport 4X4    Delhi  2014   \n",
            "18          20                  BMW 3 Series 320d    Kochi  2014   \n",
            "\n",
            "    Kilometers_Driven Owner_Type     Mileage   Engine       Power  Seats  \\\n",
            "1              46.000      First    13 km/kg  1199 CC    88.7 bhp    5.0   \n",
            "5              36.000      First  11.36 kmpl  2755 CC   171.5 bhp    8.0   \n",
            "8              25.692      First  21.56 kmpl  1462 CC  103.25 bhp    5.0   \n",
            "13            110.000      First   13.5 kmpl  2477 CC  175.56 bhp    7.0   \n",
            "18             32.982      First  22.69 kmpl  1995 CC     190 bhp    5.0   \n",
            "\n",
            "     New_Price  Price  Fuel_Type_Diesel  Fuel_Type_Petrol  \\\n",
            "1    8.61 Lakh   4.50                 0                 1   \n",
            "5      21 Lakh  17.50                 1                 0   \n",
            "8   10.65 Lakh   9.95                 0                 1   \n",
            "13  32.01 Lakh  15.00                 1                 0   \n",
            "18  47.87 Lakh  18.55                 1                 0   \n",
            "\n",
            "    Transmission_Automatic  Transmission_Manual  Current_age  \n",
            "1                        0                    1           13  \n",
            "5                        1                    0            8  \n",
            "8                        0                    1            6  \n",
            "13                       0                    1           10  \n",
            "18                       1                    0           10  \n"
          ]
        }
      ]
    },
    {
      "cell_type": "code",
      "source": [
        "# Displaying the first few rows of the processed dataset\n",
        "print(\"\\nProcessed dataset:\")\n",
        "print(df.head())\n",
        "\n",
        "# Summary statistics\n",
        "print(\"\\nSummary statistics:\")\n",
        "print(df.describe())\n"
      ],
      "metadata": {
        "colab": {
          "base_uri": "https://localhost:8080/"
        },
        "id": "Z9B1UYB8xUrx",
        "outputId": "2d840ace-1134-4c93-d1e9-914f9c9882e4"
      },
      "execution_count": 28,
      "outputs": [
        {
          "output_type": "stream",
          "name": "stdout",
          "text": [
            "\n",
            "Processed dataset:\n",
            "    Unnamed: 0                               Name Location  Year  \\\n",
            "1            2                       Honda Jazz V  Chennai  2011   \n",
            "5            7  Toyota Innova Crysta 2.8 GX AT 8S   Mumbai  2016   \n",
            "8           10                   Maruti Ciaz Zeta    Kochi  2018   \n",
            "13          15        Mitsubishi Pajero Sport 4X4    Delhi  2014   \n",
            "18          20                  BMW 3 Series 320d    Kochi  2014   \n",
            "\n",
            "    Kilometers_Driven Owner_Type     Mileage   Engine       Power  Seats  \\\n",
            "1              46.000      First    13 km/kg  1199 CC    88.7 bhp    5.0   \n",
            "5              36.000      First  11.36 kmpl  2755 CC   171.5 bhp    8.0   \n",
            "8              25.692      First  21.56 kmpl  1462 CC  103.25 bhp    5.0   \n",
            "13            110.000      First   13.5 kmpl  2477 CC  175.56 bhp    7.0   \n",
            "18             32.982      First  22.69 kmpl  1995 CC     190 bhp    5.0   \n",
            "\n",
            "     New_Price  Price  Fuel_Type_Diesel  Fuel_Type_Petrol  \\\n",
            "1    8.61 Lakh   4.50                 0                 1   \n",
            "5      21 Lakh  17.50                 1                 0   \n",
            "8   10.65 Lakh   9.95                 0                 1   \n",
            "13  32.01 Lakh  15.00                 1                 0   \n",
            "18  47.87 Lakh  18.55                 1                 0   \n",
            "\n",
            "    Transmission_Automatic  Transmission_Manual  Current_age  \n",
            "1                        0                    1           13  \n",
            "5                        1                    0            8  \n",
            "8                        0                    1            6  \n",
            "13                       0                    1           10  \n",
            "18                       1                    0           10  \n",
            "\n",
            "Summary statistics:\n",
            "        Unnamed: 0         Year  Kilometers_Driven       Seats       Price  \\\n",
            "count   814.000000   814.000000         814.000000  814.000000  814.000000   \n",
            "mean   3016.988943  2015.883292          40.318428    5.309582   13.759054   \n",
            "std    1781.836729     2.383294          28.851943    0.798203   14.904356   \n",
            "min       2.000000  2001.000000           0.600000    2.000000    0.700000   \n",
            "25%    1508.500000  2015.000000          20.451750    5.000000    5.102500   \n",
            "50%    2915.500000  2017.000000          34.669500    5.000000    8.250000   \n",
            "75%    4673.000000  2017.000000          53.453250    5.000000   17.500000   \n",
            "max    6014.000000  2019.000000         215.000000    8.000000  160.000000   \n",
            "\n",
            "       Fuel_Type_Diesel  Fuel_Type_Petrol  Transmission_Automatic  \\\n",
            "count        814.000000        814.000000              814.000000   \n",
            "mean           0.544226          0.455774                0.382064   \n",
            "std            0.498346          0.498346                0.486191   \n",
            "min            0.000000          0.000000                0.000000   \n",
            "25%            0.000000          0.000000                0.000000   \n",
            "50%            1.000000          0.000000                0.000000   \n",
            "75%            1.000000          1.000000                1.000000   \n",
            "max            1.000000          1.000000                1.000000   \n",
            "\n",
            "       Transmission_Manual  Current_age  \n",
            "count           814.000000   814.000000  \n",
            "mean              0.617936     8.116708  \n",
            "std               0.486191     2.383294  \n",
            "min               0.000000     5.000000  \n",
            "25%               0.000000     7.000000  \n",
            "50%               1.000000     7.000000  \n",
            "75%               1.000000     9.000000  \n",
            "max               1.000000    23.000000  \n"
          ]
        }
      ]
    }
  ]
}